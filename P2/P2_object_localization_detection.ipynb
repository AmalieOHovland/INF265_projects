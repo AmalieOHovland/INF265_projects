{
 "cells": [
  {
   "cell_type": "markdown",
   "id": "d7b80212",
   "metadata": {},
   "source": [
    "# Project 2 - Object Localization and detection\n",
    "\n",
    "See the Project 2 text for more information about what is done in this project. Also see PDF supplementing this assignment.\n",
    "\n",
    "Import relevant modules:"
   ]
  },
  {
   "cell_type": "code",
   "execution_count": 3,
   "id": "1a000215",
   "metadata": {},
   "outputs": [],
   "source": [
    "import torch\n",
    "from torch import nn, optim\n",
    "import torch.nn.functional as F\n",
    "from torchvision import datasets, transforms\n",
    "from datetime import datetime\n",
    "from typing import Sequence\n",
    "from torch.utils.data import random_split\n",
    "\n",
    "\n",
    "torch.manual_seed(123)\n",
    "# We use torch.double to get the same results as Pytorch\n",
    "torch.set_default_dtype(torch.double)\n",
    "\n",
    "# run the training on CPU\n",
    "device = torch.device('cpu')\n",
    "\n",
    "data_path = '../data/'"
   ]
  },
  {
   "cell_type": "markdown",
   "id": "2d04f206",
   "metadata": {},
   "source": [
    "## 2 - Object localization\n",
    "\n",
    "\n",
    "Load the 3 localization datasets localization XXX.pt. There is at most one digit per image. All digits are represented (C = 10).\n",
    "\n"
   ]
  },
  {
   "cell_type": "code",
   "execution_count": 4,
   "id": "6d0313d2",
   "metadata": {},
   "outputs": [],
   "source": [
    "def load_MNIST(data_path='../data/', preprocessor=None):\n",
    "    \n",
    "    # Fra uke 10 fasiten:\n",
    "    if preprocessor is None:\n",
    "        preprocessor = transforms.Compose([\n",
    "            transforms.CenterCrop(24),\n",
    "            transforms.ToTensor(),\n",
    "            transforms.Normalize([0.1306], [0.3080]),\n",
    "        ])\n",
    "    \n",
    "    # vi har ferdig oppdeling\n",
    "    data_train = torch.load(data_path + 'localization_train.pt')\n",
    "    data_val = torch.load(data_path + 'localization_val.pt')\n",
    "    data_test = torch.load(data_path + 'localization_test.pt')\n",
    "    \n",
    "\n",
    "    print(\"Size of the train dataset:        \", len(data_train))\n",
    "    \n",
    "    return data_train"
   ]
  },
  {
   "cell_type": "code",
   "execution_count": 7,
   "id": "c09d055e",
   "metadata": {},
   "outputs": [
    {
     "name": "stdout",
     "output_type": "stream",
     "text": [
      "Size of the train dataset:         54000\n"
     ]
    }
   ],
   "source": [
    "data_train = load_MNIST('../../project2/data/')"
   ]
  },
  {
   "cell_type": "markdown",
   "id": "716bb7e3",
   "metadata": {},
   "source": [
    "Implement and train several convolutional models suitable for an object localization task and the data provided."
   ]
  },
  {
   "cell_type": "markdown",
   "id": "ba3f16b9",
   "metadata": {},
   "source": [
    "Her har jeg tatt copy paste fra Week 10 solution:"
   ]
  },
  {
   "cell_type": "markdown",
   "id": "12a6b1ee",
   "metadata": {},
   "source": [
    "Select the best model based on its overall performance."
   ]
  },
  {
   "cell_type": "code",
   "execution_count": null,
   "id": "ef45c4cf",
   "metadata": {},
   "outputs": [],
   "source": []
  },
  {
   "cell_type": "markdown",
   "id": "d044ebce",
   "metadata": {},
   "source": [
    "Evaluate the best model."
   ]
  },
  {
   "cell_type": "code",
   "execution_count": null,
   "id": "816bfbe7",
   "metadata": {},
   "outputs": [],
   "source": []
  },
  {
   "cell_type": "markdown",
   "id": "0ff4e3a4",
   "metadata": {},
   "source": [
    "Plot some of the images of the datasets and draw the predicted and true bounding boxes. Print their true and predicted labels as well."
   ]
  },
  {
   "cell_type": "code",
   "execution_count": null,
   "id": "3f83cef0",
   "metadata": {},
   "outputs": [],
   "source": []
  },
  {
   "cell_type": "markdown",
   "id": "edd7d42c",
   "metadata": {},
   "source": [
    "## 3 - Object detection\n",
    "\n"
   ]
  },
  {
   "cell_type": "code",
   "execution_count": null,
   "id": "fdd10986",
   "metadata": {},
   "outputs": [],
   "source": []
  }
 ],
 "metadata": {
  "kernelspec": {
   "display_name": "Python 3 (ipykernel)",
   "language": "python",
   "name": "python3"
  },
  "language_info": {
   "codemirror_mode": {
    "name": "ipython",
    "version": 3
   },
   "file_extension": ".py",
   "mimetype": "text/x-python",
   "name": "python",
   "nbconvert_exporter": "python",
   "pygments_lexer": "ipython3",
   "version": "3.7.9"
  }
 },
 "nbformat": 4,
 "nbformat_minor": 5
}
