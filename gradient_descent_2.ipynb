{
 "cells": [
  {
   "cell_type": "markdown",
   "id": "3f702f4f",
   "metadata": {},
   "source": [
    "Amalies attempt at helping Kverhaug with questions 8, 9 and 10:"
   ]
  },
  {
   "cell_type": "code",
   "execution_count": null,
   "id": "7da8daf9",
   "metadata": {},
   "outputs": [],
   "source": []
  },
  {
   "cell_type": "markdown",
   "id": "eff2d098",
   "metadata": {},
   "source": [
    "Loop for hyperparameter testing and output print statements (made to match ``gradient_descent_output.txt``):"
   ]
  },
  {
   "cell_type": "code",
   "execution_count": null,
   "id": "b08f1594",
   "metadata": {},
   "outputs": [],
   "source": [
    "def calculate_accuracy(y_pred, y_true):\n",
    "    \"\"\" calculates fraction of predictions that are correct \"\"\"\n",
    "    good_predictions = (y_pred == y_true)\n",
    "    acc = np.sum(good_predictions) / len(y_true)\n",
    "    \n",
    "    return acc\n",
    "\n",
    "# for storing which MLP does the best\n",
    "current_acc = 0\n",
    "val_accs = []\n",
    "\n",
    "# parameters to test (same as from output text)\n",
    "lr = 0.01 # don't tune learning rate\n",
    "moms = [0, 0, 0.9, 0.9, 0.8]\n",
    "decays = [0, 0.01, 0, 0.01, 0.001, 0.01]\n",
    "\n",
    "\n",
    "# use list of models to avoid having to train them so much? \n",
    "# not sure how this will work with all the pytorch subclass stuff\n",
    "\n",
    "for i in range(len(moms)):\n",
    "    mom = moms[i]\n",
    "    decay = decays[i]\n",
    "    \n",
    "    print(' =========================================================\\n  Current parameters:')\n",
    "    print('lr: %.2f'%lr)\n",
    "    print('mom: %.2f'%mom)\n",
    "    print('decay: %.2f'%decays)\n",
    "    \n",
    "    # Train your Pytorch's SGD MLP (model1) here and return y_pred_train from last loop of training\n",
    "    \n",
    "    \n",
    "    # calculating accuracies from training\n",
    "    acc_t = calculate_accuracy(y_pred_train, y_train)\n",
    "    \n",
    "    # calculate accuracies from validation set\n",
    "    y_pred_val = model1(x_validation)\n",
    "    acc_v = calc_acc(y_pred_val, y_validation)\n",
    "    if acc_v > current_acc:\n",
    "        best_mom = mom\n",
    "        best_decay = decay\n",
    "        best_SDG = 'PyTorch'\n",
    "        current_acc = acc_v\n",
    "    \n",
    "    print('\\n --- Accuracies ---')\n",
    "    print('\\nTraining\\nAccuracy: %.2f'%acc_t)\n",
    "    print('\\nValidation\\nAccuracy: %.2f\\n'%acc_v)\n",
    "    \n",
    "    # Train your manual update MLP (model2) here and return y_pred_train from last loop of training\n",
    "    \n",
    "    # calculating accuracies from training\n",
    "    acc_t = calculate_accuracy(y_pred_train, y_train)\n",
    "    \n",
    "    # calculate accuracies from validation set\n",
    "    y_pred_val = model2(x_validation)\n",
    "    acc_v = calc_acc(y_pred_val, y_validation)\n",
    "    val_accs.append(acc_v)\n",
    "    if acc_v > current_acc:\n",
    "        best_mom = mom\n",
    "        best_decay = decay\n",
    "        best_SDG = 'manual update'\n",
    "        current_acc = acc_v\n",
    "    \n",
    "    print('\\n --- Accuracies ---')\n",
    "    print('Training\\nAccuracy: %.2f'%acc_t)\n",
    "    print('Validation\\nAccuracy: %.2f\\n'%acc_v)\n",
    "\n",
    "# if we make function this could be used?    \n",
    "# best_hyperparams = {'momentum' : best_mom, 'decay' : best_decay, 'SGD version' : best_SDG}"
   ]
  },
  {
   "cell_type": "markdown",
   "id": "b36c25e7",
   "metadata": {},
   "source": [
    "Questions 9 and 10:\n",
    "Select the best model among those trained in the previous question based on their accuracy. Evaluate the best model."
   ]
  },
  {
   "cell_type": "code",
   "execution_count": null,
   "id": "6230874d",
   "metadata": {},
   "outputs": [],
   "source": [
    "print('\\n --- Best model ---')\n",
    "print('Learning rate: %.2f'%lr)\n",
    "print('Momentum: %.2f'%best_mom)\n",
    "print('Decay: %.2f'%best_decay)\n",
    "print('Validation accuracy: %.2f'%current_acc)\n",
    "\n",
    "# train the best model? want no output here\n",
    "y_pred_eval = model(x_eval)\n",
    "acc_eval = calculate_accuracy(y_pred_eval, y_eval)\n",
    "\n",
    "print('Test accuracy: %.2f'%acc_eval)"
   ]
  }
 ],
 "metadata": {
  "kernelspec": {
   "display_name": "Python 3 (ipykernel)",
   "language": "python",
   "name": "python3"
  },
  "language_info": {
   "codemirror_mode": {
    "name": "ipython",
    "version": 3
   },
   "file_extension": ".py",
   "mimetype": "text/x-python",
   "name": "python",
   "nbconvert_exporter": "python",
   "pygments_lexer": "ipython3",
   "version": "3.7.9"
  }
 },
 "nbformat": 4,
 "nbformat_minor": 5
}
