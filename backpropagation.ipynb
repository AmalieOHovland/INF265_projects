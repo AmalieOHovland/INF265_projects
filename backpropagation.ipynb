{
 "cells": [
  {
   "cell_type": "markdown",
   "id": "ad325d4c",
   "metadata": {},
   "source": [
    "Import relevant modules:"
   ]
  },
  {
   "cell_type": "code",
   "execution_count": null,
   "id": "fe96f5b5",
   "metadata": {},
   "outputs": [],
   "source": [
    "import numpy as np\n"
   ]
  }
 ],
 "metadata": {
  "kernelspec": {
   "display_name": "Python 3 (ipykernel)",
   "language": "python",
   "name": "python3"
  },
  "language_info": {
   "codemirror_mode": {
    "name": "ipython",
    "version": 3
   },
   "file_extension": ".py",
   "mimetype": "text/x-python",
   "name": "python",
   "nbconvert_exporter": "python",
   "pygments_lexer": "ipython3",
   "version": "3.7.9"
  }
 },
 "nbformat": 4,
 "nbformat_minor": 5
}
